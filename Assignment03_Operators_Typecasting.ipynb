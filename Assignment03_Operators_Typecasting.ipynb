{
 "cells": [
  {
   "cell_type": "code",
   "execution_count": 5,
   "id": "0c8d2869-cb97-4f20-83c0-85fb1450408a",
   "metadata": {},
   "outputs": [
    {
     "name": "stdout",
     "output_type": "stream",
     "text": [
      "5\n"
     ]
    }
   ],
   "source": [
    "x=5\n",
    "\n",
    "print(x)"
   ]
  },
  {
   "cell_type": "code",
   "execution_count": 7,
   "id": "0759ab3f-4739-46c6-bbe8-fa3b0863933a",
   "metadata": {},
   "outputs": [
    {
     "name": "stdout",
     "output_type": "stream",
     "text": [
      "3.14\n"
     ]
    }
   ],
   "source": [
    "y=3.14\n",
    "\n",
    "print(y)"
   ]
  },
  {
   "cell_type": "code",
   "execution_count": 9,
   "id": "f9c70735-6a4f-4f9e-a62f-c385c2952285",
   "metadata": {},
   "outputs": [
    {
     "name": "stdout",
     "output_type": "stream",
     "text": [
      "123\n"
     ]
    }
   ],
   "source": [
    "num='123'\n",
    "num1=int(num)\n",
    "print(num1)"
   ]
  },
  {
   "cell_type": "code",
   "execution_count": 15,
   "id": "9233ba5f-3743-4e65-a679-0225161497cc",
   "metadata": {},
   "outputs": [
    {
     "name": "stdout",
     "output_type": "stream",
     "text": [
      "42\n"
     ]
    }
   ],
   "source": [
    "i=42\n",
    "string=str(i)\n",
    "print(string)"
   ]
  },
  {
   "cell_type": "code",
   "execution_count": 5,
   "id": "aa8c5531-a3eb-4be4-9f17-59b919548e51",
   "metadata": {},
   "outputs": [
    {
     "name": "stdin",
     "output_type": "stream",
     "text": [
      " 6\n"
     ]
    },
    {
     "name": "stdout",
     "output_type": "stream",
     "text": [
      "the number is positive and even\n"
     ]
    }
   ],
   "source": [
    "num=int(input())\n",
    "\n",
    "if((num>0) and (num%2==0)):\n",
    "    print(\"the number is positive and even\")\n",
    "elif((num>0) and (num%2!=0)):\n",
    "    print(\"the number is positive and odd\")\n",
    "elif(num<0):\n",
    "    print(\"the calculation stopped\")"
   ]
  },
  {
   "cell_type": "code",
   "execution_count": 11,
   "id": "4f7bb2e6-77ad-464f-a872-f6112fdd2a5d",
   "metadata": {},
   "outputs": [
    {
     "name": "stdin",
     "output_type": "stream",
     "text": [
      "Enter a single character:  0\n"
     ]
    },
    {
     "name": "stdout",
     "output_type": "stream",
     "text": [
      "The character is a number.\n"
     ]
    }
   ],
   "source": [
    "char = input(\"Enter a single character: \")\n",
    "\n",
    "# Check if input is a single character\n",
    "if len(char) != 1:\n",
    "    print(\"Please enter exactly one character.\")\n",
    "else:\n",
    "    # Check using ASCII ranges with 'or' operator\n",
    "    if ('0' <= char <= '9') or ('A' <= char <= 'Z'):\n",
    "        if '0' <= char <= '9':\n",
    "            print(\"The character is a number.\")\n",
    "        elif 'A' <= char <= 'Z':\n",
    "            print(\"The character is an uppercase letter.\")\n",
    "    else:\n",
    "        print(\"The character is neither a number nor an uppercase letter.\")"
   ]
  },
  {
   "cell_type": "code",
   "execution_count": 15,
   "id": "c33dcd3e-9b65-4329-a990-1edb5417f313",
   "metadata": {},
   "outputs": [
    {
     "name": "stdin",
     "output_type": "stream",
     "text": [
      " 23\n"
     ]
    },
    {
     "name": "stdout",
     "output_type": "stream",
     "text": [
      "you have entered something\n"
     ]
    }
   ],
   "source": [
    "user_data=input()\n",
    "\n",
    "if not user_data:\n",
    "    print(\"you did not enter anything\")\n",
    "else:\n",
    "    print(\"you have entered something\")"
   ]
  },
  {
   "cell_type": "code",
   "execution_count": null,
   "id": "454b21c1-7b97-4cbe-9d06-654a8617aebc",
   "metadata": {},
   "outputs": [],
   "source": [
    "num=int(input())\n",
    "\n",
    "if((num%3==0) and (num%5!=0)):\n",
    "    print(\"Accepted\")\n",
    "elif((num%3==0) and(num%5==0)):\n",
    "    print(\"not accepted\")\n",
    "    "
   ]
  },
  {
   "cell_type": "code",
   "execution_count": 3,
   "id": "f9a1bee6-ef9d-48c6-a882-127cf5286ea5",
   "metadata": {},
   "outputs": [
    {
     "name": "stdin",
     "output_type": "stream",
     "text": [
      " 199\n"
     ]
    },
    {
     "name": "stdout",
     "output_type": "stream",
     "text": [
      "Invalid Score\n"
     ]
    }
   ],
   "source": [
    "Score=int(input())\n",
    "\n",
    "if(Score>0 and Score<=100):\n",
    "    print(\"Valid Score\")\n",
    "else:\n",
    "    print(\"Invalid Score\")"
   ]
  },
  {
   "cell_type": "code",
   "execution_count": 9,
   "id": "0f6735be-dd3e-4a85-aebf-9d79c1130215",
   "metadata": {},
   "outputs": [
    {
     "name": "stdin",
     "output_type": "stream",
     "text": [
      " 43\n"
     ]
    },
    {
     "name": "stdout",
     "output_type": "stream",
     "text": [
      "you are eligible for work\n"
     ]
    }
   ],
   "source": [
    "age=int(input())\n",
    "\n",
    "if(age>=18 and age<=65):\n",
    "    print(\"you are eligible for work\")\n",
    "else:\n",
    "    print(\"you are not eligible to work\")"
   ]
  },
  {
   "cell_type": "code",
   "execution_count": null,
   "id": "ad54f7c8-ee35-4663-8e57-5bde8f8c8e8c",
   "metadata": {},
   "outputs": [],
   "source": [
    "'''\n",
    "-----Assignment Operator------\n",
    "\n",
    "'''"
   ]
  },
  {
   "cell_type": "code",
   "execution_count": 11,
   "id": "654c5c4d-0b37-4475-a959-8687f1ffedbc",
   "metadata": {},
   "outputs": [
    {
     "name": "stdin",
     "output_type": "stream",
     "text": [
      " 2\n"
     ]
    },
    {
     "name": "stdout",
     "output_type": "stream",
     "text": [
      "4\n"
     ]
    }
   ],
   "source": [
    "number=int(input())\n",
    "\n",
    "number*=number\n",
    "print(number)"
   ]
  },
  {
   "cell_type": "code",
   "execution_count": 13,
   "id": "ba8763c5-d574-404e-a4dc-ce5e24fa0398",
   "metadata": {},
   "outputs": [
    {
     "name": "stdin",
     "output_type": "stream",
     "text": [
      "Enter value of x:  2\n",
      "Enter value of y:  3\n"
     ]
    },
    {
     "name": "stdout",
     "output_type": "stream",
     "text": [
      "After swapping:\n",
      "x = 3\n",
      "y = 2\n"
     ]
    }
   ],
   "source": [
    "x = int(input(\"Enter value of x: \"))\n",
    "y = int(input(\"Enter value of y: \"))\n",
    "\n",
    "# Swapping using assignment operator (tuple unpacking)\n",
    "x, y = y, x\n",
    "\n",
    "# Output the swapped values\n",
    "print(\"After swapping:\")\n",
    "print(\"x =\", x)\n",
    "print(\"y =\", y)"
   ]
  },
  {
   "cell_type": "code",
   "execution_count": 15,
   "id": "4d10e237-2548-4650-a0ad-d68023910781",
   "metadata": {},
   "outputs": [
    {
     "name": "stdout",
     "output_type": "stream",
     "text": [
      "1\n",
      "2\n",
      "4\n",
      "8\n",
      "16\n",
      "32\n",
      "64\n",
      "128\n"
     ]
    }
   ],
   "source": [
    "num=1\n",
    "\n",
    "while(num<100):\n",
    "    print(num)\n",
    "    num*=2\n",
    "print(num)"
   ]
  },
  {
   "cell_type": "code",
   "execution_count": 17,
   "id": "373243b4-64f9-4d1a-a8a4-4a9e8d9ee5ea",
   "metadata": {},
   "outputs": [
    {
     "name": "stdin",
     "output_type": "stream",
     "text": [
      " 34\n",
      " 35\n",
      " 36\n"
     ]
    },
    {
     "name": "stdout",
     "output_type": "stream",
     "text": [
      "35.0\n"
     ]
    }
   ],
   "source": [
    "a=int(input())\n",
    "b=int(input())\n",
    "c=int(input())\n",
    "\n",
    "total=a+b+c\n",
    "\n",
    "total/=3\n",
    "\n",
    "print(total)"
   ]
  },
  {
   "cell_type": "code",
   "execution_count": 1,
   "id": "f6f4ffd9-2f44-44da-a6c2-2ebd657eb653",
   "metadata": {},
   "outputs": [],
   "source": [
    "a=int"
   ]
  },
  {
   "cell_type": "code",
   "execution_count": 11,
   "id": "c992aa52-f0d6-46de-a99c-e4d0af0ec1b7",
   "metadata": {},
   "outputs": [
    {
     "name": "stdin",
     "output_type": "stream",
     "text": [
      " 2\n"
     ]
    },
    {
     "name": "stdout",
     "output_type": "stream",
     "text": [
      "4\n"
     ]
    }
   ],
   "source": [
    "a=int(input())\n",
    "\n",
    "a**=2\n",
    "print(a)"
   ]
  },
  {
   "cell_type": "code",
   "execution_count": 17,
   "id": "657543d6-a648-48c4-8863-c04a50e998c9",
   "metadata": {},
   "outputs": [
    {
     "name": "stdin",
     "output_type": "stream",
     "text": [
      " asdfgh\n",
      " sdfg\n"
     ]
    },
    {
     "name": "stdout",
     "output_type": "stream",
     "text": [
      "first string length is greater\n"
     ]
    }
   ],
   "source": [
    "a=input()\n",
    "b=input()\n",
    "\n",
    "if(len(a)>len(b)):\n",
    "    print(\"first string length is greater\")\n",
    "elif(len(b)>len(a)):\n",
    "    print(\"second string length is greater\")\n",
    "else:\n",
    "    print(\"Both are equal\")"
   ]
  },
  {
   "cell_type": "code",
   "execution_count": 21,
   "id": "f84ee98c-473e-41de-b526-3d4b503793a4",
   "metadata": {},
   "outputs": [
    {
     "name": "stdin",
     "output_type": "stream",
     "text": [
      " 2000\n"
     ]
    },
    {
     "name": "stdout",
     "output_type": "stream",
     "text": [
      "It is a leap year\n"
     ]
    }
   ],
   "source": [
    "year=int(input())\n",
    "\n",
    "if(year%4==0):\n",
    "    if(year%100==0):\n",
    "        if(year%400==0):\n",
    "            print(\"It is a leap year\")\n",
    "        else:\n",
    "            print(\"It is not\")\n",
    "    else:\n",
    "        print(\"It is not\")\n",
    "\n",
    "else:\n",
    "    print(\"It is not\")"
   ]
  },
  {
   "cell_type": "code",
   "execution_count": 23,
   "id": "894eec53-c860-4d0f-8914-ba57928fa08e",
   "metadata": {},
   "outputs": [
    {
     "name": "stdout",
     "output_type": "stream",
     "text": [
      "3.5\n"
     ]
    }
   ],
   "source": [
    "a=7\n",
    "b=2\n",
    "\n",
    "result=a/b\n",
    "print(result)"
   ]
  },
  {
   "cell_type": "code",
   "execution_count": 25,
   "id": "afdc33fe-09ed-4b4f-ad20-c00b51eecc4a",
   "metadata": {},
   "outputs": [
    {
     "name": "stdout",
     "output_type": "stream",
     "text": [
      "3.4\n"
     ]
    }
   ],
   "source": [
    "a=17\n",
    "b=5\n",
    "reminder=a/b\n",
    "print(reminder)"
   ]
  },
  {
   "cell_type": "code",
   "execution_count": 27,
   "id": "e4e5474a-390a-4a94-8077-93489e94ce67",
   "metadata": {},
   "outputs": [
    {
     "name": "stdout",
     "output_type": "stream",
     "text": [
      "600\n"
     ]
    }
   ],
   "source": [
    "sum=0\n",
    "\n",
    "for i in range(1,50):\n",
    "    if(i%2==0):\n",
    "       sum+=i\n",
    "print(sum)"
   ]
  },
  {
   "cell_type": "code",
   "execution_count": 29,
   "id": "26d2434f-bbed-4823-b625-972680eca095",
   "metadata": {},
   "outputs": [
    {
     "name": "stdin",
     "output_type": "stream",
     "text": [
      " 23\n",
      " 34\n"
     ]
    },
    {
     "name": "stdout",
     "output_type": "stream",
     "text": [
      "57\n"
     ]
    }
   ],
   "source": [
    "a=int(input())\n",
    "b=int(input())\n",
    "\n",
    "Sum=a+b\n",
    "\n",
    "print(Sum)"
   ]
  },
  {
   "cell_type": "code",
   "execution_count": 37,
   "id": "a00077a2-cf88-4438-92a0-4f96878b5af8",
   "metadata": {},
   "outputs": [
    {
     "name": "stdin",
     "output_type": "stream",
     "text": [
      "Enter the first number:  70\n",
      "Enter the second number:  70\n"
     ]
    },
    {
     "name": "stdout",
     "output_type": "stream",
     "text": [
      "The sum is 100 or more. Please enter the numbers again.\n",
      "\n"
     ]
    },
    {
     "name": "stdin",
     "output_type": "stream",
     "text": [
      "Enter the first number:  70\n",
      "Enter the second number:  0\n"
     ]
    },
    {
     "name": "stdout",
     "output_type": "stream",
     "text": [
      "The sum is 70.0.\n"
     ]
    }
   ],
   "source": [
    "while True:\n",
    "    try:\n",
    "        num1 = float(input(\"Enter the first number: \"))\n",
    "        num2 = float(input(\"Enter the second number: \"))\n",
    "        total = num1 + num2\n",
    "        \n",
    "        if total < 100:\n",
    "            print(f\"The sum is {total}.\")\n",
    "            break\n",
    "        else:\n",
    "            print(\"The sum is 100 or more. Please enter the numbers again.\\n\")\n",
    "    except ValueError:\n",
    "        print(\"Invalid input. Please enter numeric values.\\n\")"
   ]
  },
  {
   "cell_type": "code",
   "execution_count": 39,
   "id": "7f638b97-0a49-482a-ba2f-933a82a150e9",
   "metadata": {},
   "outputs": [
    {
     "name": "stdin",
     "output_type": "stream",
     "text": [
      " 20\n",
      " 40\n"
     ]
    },
    {
     "name": "stdout",
     "output_type": "stream",
     "text": [
      "800\n"
     ]
    }
   ],
   "source": [
    "length=int(input())\n",
    "width=int(input())\n",
    "\n",
    "area=length*width\n",
    "\n",
    "print(area)"
   ]
  },
  {
   "cell_type": "code",
   "execution_count": 41,
   "id": "568bdbaa-8a9d-4dcd-85e8-8ddeed877fcd",
   "metadata": {},
   "outputs": [
    {
     "name": "stdin",
     "output_type": "stream",
     "text": [
      " 2\n",
      " 3\n"
     ]
    },
    {
     "name": "stdout",
     "output_type": "stream",
     "text": [
      "4\n",
      "9\n"
     ]
    }
   ],
   "source": [
    "a=int(input())\n",
    "b=int(input())\n",
    "\n",
    "a**=2\n",
    "b**=2\n",
    "\n",
    "print(a)\n",
    "print(b)"
   ]
  },
  {
   "cell_type": "code",
   "execution_count": 43,
   "id": "5891c1f1-0a02-4dec-84a0-5784de1144d8",
   "metadata": {},
   "outputs": [
    {
     "name": "stdin",
     "output_type": "stream",
     "text": [
      " 24\n",
      " 24\n"
     ]
    },
    {
     "name": "stdout",
     "output_type": "stream",
     "text": [
      "24.0\n"
     ]
    }
   ],
   "source": [
    "a=int(input())\n",
    "b=int(input())\n",
    "\n",
    "total=a+b\n",
    "total/=2\n",
    "\n",
    "print(total)"
   ]
  },
  {
   "cell_type": "code",
   "execution_count": 45,
   "id": "6393d488-f68a-4ed9-ae12-213e983c5ece",
   "metadata": {},
   "outputs": [
    {
     "name": "stdout",
     "output_type": "stream",
     "text": [
      "<class 'float'>\n"
     ]
    }
   ],
   "source": [
    "print(type(total))"
   ]
  },
  {
   "cell_type": "code",
   "execution_count": 47,
   "id": "f36f6c44-009c-472c-9364-fed4528dee1b",
   "metadata": {},
   "outputs": [
    {
     "name": "stdout",
     "output_type": "stream",
     "text": [
      "12.0\n"
     ]
    }
   ],
   "source": [
    "reminder=total/2\n",
    "print(reminder)"
   ]
  },
  {
   "cell_type": "code",
   "execution_count": 49,
   "id": "311fee63-ff5a-4bb2-b04b-1b8c13324247",
   "metadata": {},
   "outputs": [
    {
     "name": "stdout",
     "output_type": "stream",
     "text": [
      "12\n"
     ]
    }
   ],
   "source": [
    "print(int(reminder))"
   ]
  },
  {
   "cell_type": "code",
   "execution_count": null,
   "id": "89973ce2-d3b3-4267-8f1e-9f876924aae5",
   "metadata": {},
   "outputs": [],
   "source": []
  }
 ],
 "metadata": {
  "kernelspec": {
   "display_name": "Python [conda env:base] *",
   "language": "python",
   "name": "conda-base-py"
  },
  "language_info": {
   "codemirror_mode": {
    "name": "ipython",
    "version": 3
   },
   "file_extension": ".py",
   "mimetype": "text/x-python",
   "name": "python",
   "nbconvert_exporter": "python",
   "pygments_lexer": "ipython3",
   "version": "3.12.7"
  }
 },
 "nbformat": 4,
 "nbformat_minor": 5
}
