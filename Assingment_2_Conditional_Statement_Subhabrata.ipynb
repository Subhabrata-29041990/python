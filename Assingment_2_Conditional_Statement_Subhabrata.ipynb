{
 "cells": [
  {
   "cell_type": "code",
   "execution_count": 1,
   "id": "a526192b-0951-4d2a-bb11-0e552d8ff442",
   "metadata": {},
   "outputs": [
    {
     "name": "stdin",
     "output_type": "stream",
     "text": [
      " 23\n",
      " 24\n"
     ]
    },
    {
     "name": "stdout",
     "output_type": "stream",
     "text": [
      "47\n"
     ]
    }
   ],
   "source": [
    "a=int(input())\n",
    "b=int(input())\n",
    "\n",
    "sum=a+b\n",
    "\n",
    "print(sum)"
   ]
  },
  {
   "cell_type": "code",
   "execution_count": 13,
   "id": "aa46d623-78e0-48e0-8bf0-394cba608238",
   "metadata": {},
   "outputs": [
    {
     "name": "stdin",
     "output_type": "stream",
     "text": [
      " 6\n"
     ]
    },
    {
     "name": "stdout",
     "output_type": "stream",
     "text": [
      "It is even\n"
     ]
    }
   ],
   "source": [
    "a=int(input())\n",
    "\n",
    "if((a%2)==0):\n",
    "    print(\"It is even\")\n",
    "elif(((a%2)!=0)and(a%1==0)):\n",
    "    print(\"It is odd\")"
   ]
  },
  {
   "cell_type": "code",
   "execution_count": 23,
   "id": "fdb7ce1c-14d2-446b-9825-06293f08a070",
   "metadata": {},
   "outputs": [
    {
     "name": "stdin",
     "output_type": "stream",
     "text": [
      " 72\n"
     ]
    },
    {
     "name": "stdout",
     "output_type": "stream",
     "text": [
      "you are a senior\n"
     ]
    }
   ],
   "source": [
    "age=int(input())\n",
    "\n",
    "if(age<18):\n",
    "    print(\"You are a minor\")\n",
    "elif((age>18)and(age<65)):\n",
    "    print(\"you are adult\")\n",
    "elif(age>65):\n",
    "    print(\"you are a senior\")"
   ]
  },
  {
   "cell_type": "code",
   "execution_count": 27,
   "id": "64e6a74b-9a75-4d55-abac-decb8bf08baf",
   "metadata": {},
   "outputs": [
    {
     "name": "stdin",
     "output_type": "stream",
     "text": [
      " 20\n",
      " 23\n"
     ]
    },
    {
     "name": "stdout",
     "output_type": "stream",
     "text": [
      "460.0\n"
     ]
    }
   ],
   "source": [
    "length=float(input())\n",
    "width=float(input())\n",
    "area=length*width\n",
    "print(area)"
   ]
  },
  {
   "cell_type": "code",
   "execution_count": 7,
   "id": "5b2b578a-480d-4c5a-985e-1666d7753139",
   "metadata": {},
   "outputs": [
    {
     "name": "stdin",
     "output_type": "stream",
     "text": [
      " 66\n"
     ]
    },
    {
     "name": "stdout",
     "output_type": "stream",
     "text": [
      "grade D\n"
     ]
    }
   ],
   "source": [
    "num=int(input())\n",
    "\n",
    "if(num>90 and num<=100):\n",
    "    print(\"grade A\")\n",
    "elif(num>80 and num<=89):\n",
    "    print(\"grade B\")\n",
    "elif(num>70 and num<=79):\n",
    "    print(\"grade C\")\n",
    "elif(num>60 and num<=69):\n",
    "    print(\"grade D\")\n",
    "elif(num<60):\n",
    "    print(\"Fail\")"
   ]
  },
  {
   "cell_type": "code",
   "execution_count": 13,
   "id": "2f566ec7-b9e4-4cfd-9914-27994de57e37",
   "metadata": {},
   "outputs": [
    {
     "name": "stdin",
     "output_type": "stream",
     "text": [
      " Subhabrata\n",
      " 19\n"
     ]
    },
    {
     "name": "stdout",
     "output_type": "stream",
     "text": [
      "Welcome to this service Mr. Subhabrata\n"
     ]
    }
   ],
   "source": [
    "name=input()\n",
    "age=int(input())\n",
    "\n",
    "if(age<13):\n",
    "    print(\"You are not eligible for this service\")\n",
    "else:\n",
    "    print(\"Welcome to this service Mr.\",name)"
   ]
  },
  {
   "cell_type": "code",
   "execution_count": 7,
   "id": "a8b767cb-ed26-45ee-9b47-089684acda91",
   "metadata": {},
   "outputs": [
    {
     "name": "stdin",
     "output_type": "stream",
     "text": [
      " -0\n"
     ]
    },
    {
     "name": "stdout",
     "output_type": "stream",
     "text": [
      "this is zero\n"
     ]
    }
   ],
   "source": [
    "num=int(input())\n",
    "\n",
    "if(num<0):\n",
    "    print(\"the number is negetive\")\n",
    "elif(num==0):\n",
    "    print(\"this is zero\")\n",
    "else:\n",
    "    print(\"the number is positive\")"
   ]
  },
  {
   "cell_type": "code",
   "execution_count": 9,
   "id": "15ad2c61-2684-4378-8975-143d2f4a3f68",
   "metadata": {},
   "outputs": [
    {
     "name": "stdout",
     "output_type": "stream",
     "text": [
      "120\n"
     ]
    }
   ],
   "source": [
    "import math\n",
    "\n",
    "n = 5\n",
    "result = math.factorial(n)\n",
    "print(result)"
   ]
  },
  {
   "cell_type": "code",
   "execution_count": 11,
   "id": "fe2698d7-7485-4c91-be49-fba60be6d9bf",
   "metadata": {},
   "outputs": [],
   "source": [
    "def is_palindrome_while(s):\n",
    "    left = 0\n",
    "    right = len(s) - 1\n",
    "    while left < right:\n",
    "        if s[left] != s[right]:\n",
    "            return False\n",
    "        left += 1\n",
    "        right -= 1\n",
    "    return True"
   ]
  },
  {
   "cell_type": "code",
   "execution_count": 13,
   "id": "c2c7748e-51e3-4a6d-834a-bad3d8237973",
   "metadata": {},
   "outputs": [
    {
     "data": {
      "text/plain": [
       "True"
      ]
     },
     "execution_count": 13,
     "metadata": {},
     "output_type": "execute_result"
    }
   ],
   "source": [
    "is_palindrome_while('MADAM')"
   ]
  },
  {
   "cell_type": "code",
   "execution_count": 15,
   "id": "12a73780-c8e7-44c5-904e-6204f91f831c",
   "metadata": {},
   "outputs": [
    {
     "data": {
      "text/plain": [
       "False"
      ]
     },
     "execution_count": 15,
     "metadata": {},
     "output_type": "execute_result"
    }
   ],
   "source": [
    "is_palindrome_while('AMBULANCE')"
   ]
  },
  {
   "cell_type": "code",
   "execution_count": null,
   "id": "cd56258e-f10d-4c3d-913e-65639f77f7e6",
   "metadata": {},
   "outputs": [],
   "source": []
  }
 ],
 "metadata": {
  "kernelspec": {
   "display_name": "Python [conda env:base] *",
   "language": "python",
   "name": "conda-base-py"
  },
  "language_info": {
   "codemirror_mode": {
    "name": "ipython",
    "version": 3
   },
   "file_extension": ".py",
   "mimetype": "text/x-python",
   "name": "python",
   "nbconvert_exporter": "python",
   "pygments_lexer": "ipython3",
   "version": "3.12.7"
  }
 },
 "nbformat": 4,
 "nbformat_minor": 5
}
