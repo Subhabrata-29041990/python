{
 "cells": [
  {
   "cell_type": "code",
   "execution_count": 1,
   "id": "cb270636-cb3d-413e-b51c-a7f6967e14c0",
   "metadata": {},
   "outputs": [
    {
     "name": "stdout",
     "output_type": "stream",
     "text": [
      "25\n"
     ]
    }
   ],
   "source": [
    "age=25\n",
    "\n",
    "print(age)"
   ]
  },
  {
   "cell_type": "code",
   "execution_count": 3,
   "id": "69567574-1012-4327-a1e2-807b268b9dcc",
   "metadata": {},
   "outputs": [
    {
     "name": "stdout",
     "output_type": "stream",
     "text": [
      "Subhabrata\n"
     ]
    }
   ],
   "source": [
    "name='Subhabrata'\n",
    "\n",
    "print(name)"
   ]
  },
  {
   "cell_type": "code",
   "execution_count": 5,
   "id": "995750cb-b675-4c52-9c91-eab6a2d94313",
   "metadata": {},
   "outputs": [
    {
     "name": "stdout",
     "output_type": "stream",
     "text": [
      "Mango,Lichi,Banana\n"
     ]
    }
   ],
   "source": [
    "fruits='Mango,Lichi,Banana'\n",
    "\n",
    "print(fruits)"
   ]
  },
  {
   "cell_type": "code",
   "execution_count": 7,
   "id": "683f1a03-8ac3-427f-822f-692df49761b6",
   "metadata": {},
   "outputs": [
    {
     "name": "stdout",
     "output_type": "stream",
     "text": [
      "3\n",
      "2\n"
     ]
    }
   ],
   "source": [
    "x=2\n",
    "y=3\n",
    "\n",
    "x,y=3,2\n",
    "\n",
    "print(x)\n",
    "print(y)"
   ]
  },
  {
   "cell_type": "code",
   "execution_count": 9,
   "id": "374e52e5-8b85-410f-877f-04fc10f41df7",
   "metadata": {},
   "outputs": [
    {
     "name": "stdout",
     "output_type": "stream",
     "text": [
      "19.99\n"
     ]
    }
   ],
   "source": [
    "price=19.99\n",
    "\n",
    "print(price)"
   ]
  },
  {
   "cell_type": "code",
   "execution_count": 11,
   "id": "7c67f546-5364-4771-9afe-a74d46ce86fa",
   "metadata": {},
   "outputs": [
    {
     "name": "stdout",
     "output_type": "stream",
     "text": [
      "<class 'float'>\n"
     ]
    }
   ],
   "source": [
    "print(type(price))"
   ]
  },
  {
   "cell_type": "code",
   "execution_count": 13,
   "id": "96a8d154-2eba-43c3-a7f5-f3d7bd1a765a",
   "metadata": {},
   "outputs": [
    {
     "name": "stdout",
     "output_type": "stream",
     "text": [
      "True\n"
     ]
    }
   ],
   "source": [
    "is_student=True\n",
    "\n",
    "print(is_student)"
   ]
  },
  {
   "cell_type": "code",
   "execution_count": 15,
   "id": "00fa8e51-9fe6-431d-bdba-5d6df05973b1",
   "metadata": {},
   "outputs": [
    {
     "name": "stdout",
     "output_type": "stream",
     "text": [
      "{40.7128, -74.006}\n"
     ]
    }
   ],
   "source": [
    "t={40.7128,-74.0060}\n",
    "\n",
    "print(t)"
   ]
  },
  {
   "cell_type": "code",
   "execution_count": 17,
   "id": "eab483e5-95e5-4662-b5d8-1bec77f3b4ea",
   "metadata": {},
   "outputs": [
    {
     "name": "stdout",
     "output_type": "stream",
     "text": [
      "{'name': 'Subhabrata', 'age': 36}\n"
     ]
    }
   ],
   "source": [
    "student={'name':'Subhabrata','age':36}\n",
    "\n",
    "print(student)"
   ]
  },
  {
   "cell_type": "code",
   "execution_count": 19,
   "id": "36f1250a-d615-4588-8cb7-1caa018b3a16",
   "metadata": {},
   "outputs": [
    {
     "name": "stdout",
     "output_type": "stream",
     "text": [
      "28.26\n"
     ]
    }
   ],
   "source": [
    "radius=9\n",
    "\n",
    "area=3.14*radius\n",
    "\n",
    "print(area)"
   ]
  },
  {
   "cell_type": "code",
   "execution_count": 21,
   "id": "3a16c054-6e7c-4f34-b606-bce5533be28e",
   "metadata": {},
   "outputs": [
    {
     "name": "stdout",
     "output_type": "stream",
     "text": [
      "[0, 1, 2, 3, 4, 5, 6, 7, 8, 9]\n"
     ]
    }
   ],
   "source": [
    "numbers=[x**1 for x in range(10)]\n",
    "print(numbers)\n",
    "\n"
   ]
  },
  {
   "cell_type": "code",
   "execution_count": 23,
   "id": "e0b89a8b-c5ba-45ab-b22e-eea5e975e99e",
   "metadata": {},
   "outputs": [
    {
     "name": "stdout",
     "output_type": "stream",
     "text": [
      "True\n"
     ]
    }
   ],
   "source": [
    "is_Valid=False\n",
    "is_Valid=not is_Valid\n",
    "print(is_Valid)"
   ]
  },
  {
   "cell_type": "code",
   "execution_count": 25,
   "id": "95a5bcbd-069d-4c71-a02d-a60026e56c45",
   "metadata": {},
   "outputs": [
    {
     "name": "stdout",
     "output_type": "stream",
     "text": [
      "Myself Subhabrata\n"
     ]
    }
   ],
   "source": [
    "sentence='Myself Subhabrata'\n",
    "\n",
    "print(sentence)"
   ]
  },
  {
   "cell_type": "code",
   "execution_count": 27,
   "id": "b1d29d6a-a716-4fca-a3f7-2df71f7f47d2",
   "metadata": {},
   "outputs": [
    {
     "name": "stdout",
     "output_type": "stream",
     "text": [
      "45\n"
     ]
    }
   ],
   "source": [
    "total_sum=sum(i for i in range(1,10))\n",
    "print(total_sum)"
   ]
  },
  {
   "cell_type": "code",
   "execution_count": 29,
   "id": "50a4df84-ecfe-41d9-ac33-ebc32966de26",
   "metadata": {},
   "outputs": [
    {
     "name": "stdout",
     "output_type": "stream",
     "text": [
      "[96.09, 95.08, 99.09, 89.08, 88.09]\n"
     ]
    }
   ],
   "source": [
    "grades=[96.09,95.08,99.09,89.08,88.09]\n",
    "\n",
    "print(grades)"
   ]
  },
  {
   "cell_type": "code",
   "execution_count": 31,
   "id": "da564465-3be9-4610-bf1b-fd0e6b9cecec",
   "metadata": {},
   "outputs": [
    {
     "name": "stdout",
     "output_type": "stream",
     "text": [
      "Hello World\n"
     ]
    }
   ],
   "source": [
    "greetings='Hello World'\n",
    "\n",
    "print(greetings)"
   ]
  },
  {
   "cell_type": "code",
   "execution_count": 37,
   "id": "9c5fba26-a77c-49e4-bddc-31a9701e59e4",
   "metadata": {},
   "outputs": [
    {
     "name": "stdout",
     "output_type": "stream",
     "text": [
      "('January', 'February', 'March', 'April', 'May', 'Jun', 'July', 'August', 'September', 'October', 'November', 'December')\n"
     ]
    }
   ],
   "source": [
    "months=('January','February','March','April','May','Jun','July','August','September','October','November','December')\n",
    "\n",
    "print(months)"
   ]
  },
  {
   "cell_type": "code",
   "execution_count": 39,
   "id": "d464174b-7180-4952-a2e6-c28447c2a8c0",
   "metadata": {},
   "outputs": [
    {
     "name": "stdout",
     "output_type": "stream",
     "text": [
      "<class 'tuple'>\n"
     ]
    }
   ],
   "source": [
    "print(type(months))"
   ]
  },
  {
   "cell_type": "code",
   "execution_count": 1,
   "id": "64ad0987-fd81-4734-ba07-ea6589ea598b",
   "metadata": {},
   "outputs": [
    {
     "name": "stdout",
     "output_type": "stream",
     "text": [
      "1\n"
     ]
    }
   ],
   "source": [
    "counter=0\n",
    "counter+=1\n",
    "\n",
    "print(counter)"
   ]
  },
  {
   "cell_type": "code",
   "execution_count": 3,
   "id": "55c49008-c545-4265-bf01-28105a4e11f7",
   "metadata": {},
   "outputs": [
    {
     "name": "stdout",
     "output_type": "stream",
     "text": [
      "[{'Title': 'Kobi-Bhidiya', 'Author': 'Dheeraj Verma'}, {'Title': 'Nagraj', 'Author': 'Sanjay Gupta and Manoj Gupta'}]\n"
     ]
    }
   ],
   "source": [
    "Book=[\n",
    "    {'Title':'Kobi-Bhidiya','Author':'Dheeraj Verma'},\n",
    "    {'Title':'Nagraj','Author':'Sanjay Gupta and Manoj Gupta'}\n",
    "]\n",
    "\n",
    "print(Book)"
   ]
  },
  {
   "cell_type": "code",
   "execution_count": 5,
   "id": "163d2cbc-2884-44b9-a409-ab944837216a",
   "metadata": {},
   "outputs": [
    {
     "name": "stdout",
     "output_type": "stream",
     "text": [
      "3.14\n"
     ]
    }
   ],
   "source": [
    "pi=3.14\n",
    "\n",
    "print(pi)"
   ]
  },
  {
   "cell_type": "code",
   "execution_count": 7,
   "id": "2df64ee1-2f0a-4238-9114-5605e5d3e0de",
   "metadata": {},
   "outputs": [
    {
     "name": "stdout",
     "output_type": "stream",
     "text": [
      "['Violet', 'Indigo', 'Blue', 'Green', 'Yellow', 'Orange', 'Red']\n"
     ]
    }
   ],
   "source": [
    "color=['Violet','Indigo','Blue','Green','Yellow','Orange','Red']\n",
    "\n",
    "print(color)"
   ]
  },
  {
   "cell_type": "code",
   "execution_count": 9,
   "id": "253986a9-3879-436c-9188-dbd675fadac2",
   "metadata": {},
   "outputs": [
    {
     "name": "stdin",
     "output_type": "stream",
     "text": [
      " 12\n",
      " 24\n"
     ]
    },
    {
     "name": "stdout",
     "output_type": "stream",
     "text": [
      "288\n"
     ]
    }
   ],
   "source": [
    "length=int(input())\n",
    "width=int(input())\n",
    "area=length*width\n",
    "print(area)"
   ]
  },
  {
   "cell_type": "code",
   "execution_count": 13,
   "id": "114a1a27-5028-40f3-9327-575ceb217aa7",
   "metadata": {},
   "outputs": [
    {
     "data": {
      "text/plain": [
       "[{'First Name': 'Subhabrata', 'Last Name': 'Ghosh'},\n",
       " {'First Name': 'Arindam', 'Last Name': 'Ghosh'}]"
      ]
     },
     "execution_count": 13,
     "metadata": {},
     "output_type": "execute_result"
    }
   ],
   "source": [
    "person=[\n",
    "       {'First Name':'Subhabrata','Last Name':'Ghosh'},\n",
    "       {'First Name':'Arindam','Last Name': 'Ghosh'}\n",
    "]\n",
    "\n",
    "person"
   ]
  },
  {
   "cell_type": "code",
   "execution_count": 15,
   "id": "f32d7507-8ced-4014-9ed2-ef1d98b07fe7",
   "metadata": {},
   "outputs": [
    {
     "name": "stdout",
     "output_type": "stream",
     "text": [
      "77.0\n"
     ]
    }
   ],
   "source": [
    "temperature = 25  # Celsius\n",
    "fahrenheit = (temperature * 9/5) + 32\n",
    "\n",
    "print(fahrenheit)"
   ]
  },
  {
   "cell_type": "code",
   "execution_count": 17,
   "id": "b9b1be32-345f-45a2-bc49-b2c5445b715f",
   "metadata": {},
   "outputs": [
    {
     "name": "stdout",
     "output_type": "stream",
     "text": [
      "['Milk']\n"
     ]
    }
   ],
   "source": [
    "shopping_list=[]\n",
    "shopping_list.append('Milk')\n",
    "\n",
    "print(shopping_list)"
   ]
  },
  {
   "cell_type": "code",
   "execution_count": 19,
   "id": "98e0f211-440d-4554-b8e5-d169789df0c3",
   "metadata": {},
   "outputs": [
    {
     "name": "stdout",
     "output_type": "stream",
     "text": [
      "False\n"
     ]
    }
   ],
   "source": [
    "is_raining=True\n",
    "is_raining=False\n",
    "\n",
    "print(is_raining)\n"
   ]
  },
  {
   "cell_type": "code",
   "execution_count": 21,
   "id": "945ab83e-0039-4e74-a1bf-e2f638784a67",
   "metadata": {},
   "outputs": [
    {
     "name": "stdout",
     "output_type": "stream",
     "text": [
      "10.0\n"
     ]
    }
   ],
   "source": [
    "num_int=10\n",
    "num_float=float(num_int)\n",
    "\n",
    "print(num_float)"
   ]
  },
  {
   "cell_type": "code",
   "execution_count": 26,
   "id": "523dd7dc-0546-4019-ad15-f64517dd5152",
   "metadata": {},
   "outputs": [
    {
     "name": "stdin",
     "output_type": "stream",
     "text": [
      " 12\n"
     ]
    },
    {
     "name": "stdout",
     "output_type": "stream",
     "text": [
      "You are not eligible\n"
     ]
    }
   ],
   "source": [
    "age=input()\n",
    "age_int=int(age)\n",
    "\n",
    "if(age_int>=18):\n",
    "    print(\"You are eligible to vote\")\n",
    "else:\n",
    "    print(\"You are not eligible\")"
   ]
  },
  {
   "cell_type": "code",
   "execution_count": 28,
   "id": "8f00fc48-d2c9-4ec6-bdc0-4eca0eb11748",
   "metadata": {},
   "outputs": [
    {
     "name": "stdout",
     "output_type": "stream",
     "text": [
      "4\n"
     ]
    }
   ],
   "source": [
    "my_float = 3.7\n",
    "\n",
    "# Convert to nearest whole number\n",
    "rounded_int = round(my_float)\n",
    "\n",
    "# Output result\n",
    "print(rounded_int)"
   ]
  },
  {
   "cell_type": "code",
   "execution_count": 36,
   "id": "83618eb9-9553-485a-9891-c0fa8d4ebbf9",
   "metadata": {},
   "outputs": [
    {
     "name": "stdin",
     "output_type": "stream",
     "text": [
      " NURATO\n"
     ]
    },
    {
     "name": "stdout",
     "output_type": "stream",
     "text": [
      "No it is not present\n"
     ]
    }
   ],
   "source": [
    "Text=input()\n",
    "txt_lower=Text.lower()\n",
    "if \"python\" in txt_lower:\n",
    "    print(\"yes it is present\")\n",
    "else:\n",
    "    print(\"No it is not present\")"
   ]
  },
  {
   "cell_type": "code",
   "execution_count": 38,
   "id": "ffbe1084-2143-45b3-9b5d-a7e369fbeec4",
   "metadata": {},
   "outputs": [
    {
     "name": "stdin",
     "output_type": "stream",
     "text": [
      " 42\n"
     ]
    },
    {
     "name": "stdout",
     "output_type": "stream",
     "text": [
      "42\n"
     ]
    }
   ],
   "source": [
    "number=input()\n",
    "number_int=int(number)\n",
    "\n",
    "print(number_int)"
   ]
  },
  {
   "cell_type": "code",
   "execution_count": 42,
   "id": "ba0760c9-8956-4a59-bb94-79217b203750",
   "metadata": {},
   "outputs": [
    {
     "name": "stdout",
     "output_type": "stream",
     "text": [
      "[1, 2, 3, 4, 5, 6]\n"
     ]
    }
   ],
   "source": [
    "l=[1,2,3,4,5,6]\n",
    "\n",
    "l_str=str(l)\n",
    "print(l_str)"
   ]
  },
  {
   "cell_type": "code",
   "execution_count": 44,
   "id": "a67bda2c-5d85-4889-9257-cbb7f4255a67",
   "metadata": {},
   "outputs": [
    {
     "name": "stdin",
     "output_type": "stream",
     "text": [
      " 12\n",
      " 24\n"
     ]
    },
    {
     "name": "stdout",
     "output_type": "stream",
     "text": [
      "288.0\n"
     ]
    }
   ],
   "source": [
    "height=input()\n",
    "base=input()\n",
    "\n",
    "area=float(height)*float(base)\n",
    "\n",
    "print(area)"
   ]
  },
  {
   "cell_type": "code",
   "execution_count": 1,
   "id": "e819ffb7-1c08-444c-a33c-b3a282179f51",
   "metadata": {},
   "outputs": [
    {
     "name": "stdin",
     "output_type": "stream",
     "text": [
      " 12\n"
     ]
    },
    {
     "name": "stdout",
     "output_type": "stream",
     "text": [
      "True\n"
     ]
    }
   ],
   "source": [
    "number=input()\n",
    "num_bit=bool(number)\n",
    "\n",
    "print(num_bit)"
   ]
  },
  {
   "cell_type": "code",
   "execution_count": 5,
   "id": "2911501d-8126-42d8-a10e-1d3cdf138d8c",
   "metadata": {},
   "outputs": [
    {
     "name": "stdout",
     "output_type": "stream",
     "text": [
      "[1, 2, 3]\n"
     ]
    }
   ],
   "source": [
    "num_list=[\"1\",\"2\",\"3\"]\n",
    "num= [int(num) for num in num_list]\n",
    "print(num)"
   ]
  },
  {
   "cell_type": "code",
   "execution_count": 7,
   "id": "ac7b3475-a771-4ef6-9924-9723eb279463",
   "metadata": {},
   "outputs": [
    {
     "name": "stdout",
     "output_type": "stream",
     "text": [
      "3.14\n"
     ]
    }
   ],
   "source": [
    "val='3.14'\n",
    "val_float=float(val)\n",
    "print(val_float)"
   ]
  },
  {
   "cell_type": "code",
   "execution_count": null,
   "id": "aa9b5304-0415-4d1f-9ebf-d629ba9bdccc",
   "metadata": {},
   "outputs": [],
   "source": []
  }
 ],
 "metadata": {
  "kernelspec": {
   "display_name": "Python [conda env:base] *",
   "language": "python",
   "name": "conda-base-py"
  },
  "language_info": {
   "codemirror_mode": {
    "name": "ipython",
    "version": 3
   },
   "file_extension": ".py",
   "mimetype": "text/x-python",
   "name": "python",
   "nbconvert_exporter": "python",
   "pygments_lexer": "ipython3",
   "version": "3.12.7"
  }
 },
 "nbformat": 4,
 "nbformat_minor": 5
}
