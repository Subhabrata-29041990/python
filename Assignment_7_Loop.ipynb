{
 "cells": [
  {
   "cell_type": "code",
   "execution_count": 3,
   "id": "4e433603-ae37-46f3-965f-fbf09d5c10ee",
   "metadata": {},
   "outputs": [
    {
     "name": "stdout",
     "output_type": "stream",
     "text": [
      "1\n",
      "2\n",
      "3\n",
      "4\n",
      "5\n",
      "6\n",
      "7\n",
      "8\n",
      "9\n",
      "10\n"
     ]
    }
   ],
   "source": [
    "for i in range(1,11):\n",
    "    print(i)"
   ]
  },
  {
   "cell_type": "code",
   "execution_count": 7,
   "id": "dd927a1f-a86a-4269-a213-338b60e4ae66",
   "metadata": {},
   "outputs": [
    {
     "name": "stdin",
     "output_type": "stream",
     "text": [
      "Enter a positive integer:  1\n"
     ]
    },
    {
     "name": "stdout",
     "output_type": "stream",
     "text": [
      "The sum of the first 1 natural numbers is: 1\n"
     ]
    }
   ],
   "source": [
    "n = int(input(\"Enter a positive integer: \"))\n",
    "\n",
    "\n",
    "if n > 0:\n",
    "    \n",
    "    total = n * (n + 1) // 2\n",
    "    print(f\"The sum of the first {n} natural numbers is: {total}\")\n",
    "else:\n",
    "    print(\"Please enter a positive integer.\")"
   ]
  },
  {
   "cell_type": "code",
   "execution_count": 15,
   "id": "487ac810-b5c2-4175-8875-0977baeb1385",
   "metadata": {},
   "outputs": [
    {
     "name": "stdin",
     "output_type": "stream",
     "text": [
      " 5\n"
     ]
    },
    {
     "name": "stdout",
     "output_type": "stream",
     "text": [
      "multiplication of 5x1= 5\n",
      "multiplication of 5x2= 10\n",
      "multiplication of 5x3= 15\n",
      "multiplication of 5x4= 20\n",
      "multiplication of 5x5= 25\n",
      "multiplication of 5x6= 30\n",
      "multiplication of 5x7= 35\n",
      "multiplication of 5x8= 40\n",
      "multiplication of 5x9= 45\n",
      "multiplication of 5x10= 50\n"
     ]
    }
   ],
   "source": [
    "n=int(input())\n",
    "\n",
    "for i in range(1,11):\n",
    "    print(f'multiplication of {n}x{i}=',n*i)\n",
    "    "
   ]
  },
  {
   "cell_type": "code",
   "execution_count": 23,
   "id": "13f3e359-a7a2-41e0-8272-046d944d0ee0",
   "metadata": {},
   "outputs": [
    {
     "name": "stdin",
     "output_type": "stream",
     "text": [
      "Enter a number to generate Fibonacci sequence up to:  7\n"
     ]
    },
    {
     "name": "stdout",
     "output_type": "stream",
     "text": [
      "0 1 1 2 3 5 "
     ]
    }
   ],
   "source": [
    "n = int(input(\"Enter a number to generate Fibonacci sequence up to: \"))\n",
    "a, b = 0, 1\n",
    "while a <= n:\n",
    "        print(a, end=' ')\n",
    "        a, b = b, a + b"
   ]
  },
  {
   "cell_type": "code",
   "execution_count": 29,
   "id": "ac65f4f5-a54b-4e15-831a-7187f531c5fc",
   "metadata": {},
   "outputs": [
    {
     "name": "stdout",
     "output_type": "stream",
     "text": [
      "5\n"
     ]
    }
   ],
   "source": [
    "vowels='aeiou'\n",
    "count = 0\n",
    "for char in vowels:\n",
    "    if char in vowels:\n",
    "           count += 1\n",
    "\n",
    "\n",
    "print(count)"
   ]
  },
  {
   "cell_type": "code",
   "execution_count": 31,
   "id": "270a0766-4760-4788-a77f-d58c780141ad",
   "metadata": {},
   "outputs": [
    {
     "name": "stdin",
     "output_type": "stream",
     "text": [
      "Enter a string:  kjytr\n"
     ]
    },
    {
     "name": "stdout",
     "output_type": "stream",
     "text": [
      "Reversed string: rtyjk\n"
     ]
    }
   ],
   "source": [
    "s = input(\"Enter a string: \")\n",
    "\n",
    "\n",
    "reversed_s = s[::-1]\n",
    "\n",
    "\n",
    "print(\"Reversed string:\", reversed_s)"
   ]
  },
  {
   "cell_type": "code",
   "execution_count": 35,
   "id": "5d719e17-9555-4431-ae8d-e91e895aa6f6",
   "metadata": {},
   "outputs": [
    {
     "name": "stdin",
     "output_type": "stream",
     "text": [
      "Enter a string:  AMBULANCE\n"
     ]
    },
    {
     "name": "stdout",
     "output_type": "stream",
     "text": [
      "The string is not a palindrome.\n"
     ]
    }
   ],
   "source": [
    "s = input(\"Enter a string: \")\n",
    "\n",
    "cleaned_s = ''.join(s.split()).lower()\n",
    "\n",
    "\n",
    "if cleaned_s == cleaned_s[::-1]:\n",
    "    print(\"The string is a palindrome.\")\n",
    "else:\n",
    "    print(\"The string is not a palindrome.\")"
   ]
  },
  {
   "cell_type": "code",
   "execution_count": 37,
   "id": "cdac3aa5-1c59-4f10-80c9-deb51231c4fb",
   "metadata": {},
   "outputs": [
    {
     "name": "stdout",
     "output_type": "stream",
     "text": [
      "16\n"
     ]
    }
   ],
   "source": [
    "s='Subhabrata sdsds'\n",
    "print(len(s))"
   ]
  },
  {
   "cell_type": "code",
   "execution_count": 41,
   "id": "476bebe3-8a96-4b1b-9a42-79bde34a28dd",
   "metadata": {},
   "outputs": [
    {
     "name": "stdin",
     "output_type": "stream",
     "text": [
      " 4\n"
     ]
    },
    {
     "name": "stdout",
     "output_type": "stream",
     "text": [
      "It is present\n"
     ]
    }
   ],
   "source": [
    "l=[1,2,3,4,5]\n",
    "num=int(input())\n",
    "if num in l:\n",
    "    print(\"It is present\")\n",
    "else:\n",
    "    print(\"It is not present\")"
   ]
  },
  {
   "cell_type": "code",
   "execution_count": 51,
   "id": "d5e25597-f35e-45d3-92dd-fb1445f46f96",
   "metadata": {},
   "outputs": [
    {
     "name": "stdin",
     "output_type": "stream",
     "text": [
      "Enter elements of the first list separated by spaces:  1,2,3,4\n",
      "Enter elements of the second list separated by spaces:  1,2,3,5\n"
     ]
    },
    {
     "name": "stdout",
     "output_type": "stream",
     "text": [
      "No common elements found.\n"
     ]
    }
   ],
   "source": [
    "def get_list(prompt):\n",
    "    return input(prompt).split()\n",
    "\n",
    "# Get lists from user input\n",
    "l1 = get_list(\"Enter elements of the first list separated by spaces: \")\n",
    "l2 = get_list(\"Enter elements of the second list separated by spaces: \")\n",
    "\n",
    "# Find common elements\n",
    "common_elements = list(set(l1) & set(l2))\n",
    "\n",
    "# Print result\n",
    "if common_elements:\n",
    "    print(\"Common elements:\", common_elements)\n",
    "else:\n",
    "    print(\"No common elements found.\")"
   ]
  },
  {
   "cell_type": "code",
   "execution_count": 55,
   "id": "ea8dad60-666f-4133-aba8-4bc21f1204eb",
   "metadata": {},
   "outputs": [
    {
     "name": "stdin",
     "output_type": "stream",
     "text": [
      " 11\n"
     ]
    },
    {
     "name": "stdout",
     "output_type": "stream",
     "text": [
      "6\n"
     ]
    }
   ],
   "source": [
    "r=int(input())\n",
    "count=0\n",
    "for i in range(1,r+1):\n",
    "    if(i%2!=0):\n",
    "        count+=1\n",
    "\n",
    "print(count)"
   ]
  },
  {
   "cell_type": "code",
   "execution_count": null,
   "id": "2f3702bf-5bb0-4b20-8b9a-a5bbcee1cf34",
   "metadata": {},
   "outputs": [],
   "source": []
  }
 ],
 "metadata": {
  "kernelspec": {
   "display_name": "Python [conda env:base] *",
   "language": "python",
   "name": "conda-base-py"
  },
  "language_info": {
   "codemirror_mode": {
    "name": "ipython",
    "version": 3
   },
   "file_extension": ".py",
   "mimetype": "text/x-python",
   "name": "python",
   "nbconvert_exporter": "python",
   "pygments_lexer": "ipython3",
   "version": "3.12.7"
  }
 },
 "nbformat": 4,
 "nbformat_minor": 5
}
