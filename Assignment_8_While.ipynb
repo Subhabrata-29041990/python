{
 "cells": [
  {
   "cell_type": "code",
   "execution_count": 3,
   "id": "d47f39f2-5ab8-4140-8ab4-8f0ff3d99fcc",
   "metadata": {},
   "outputs": [
    {
     "name": "stdout",
     "output_type": "stream",
     "text": [
      "0\n",
      "1\n",
      "1\n",
      "2\n",
      "3\n",
      "5\n",
      "8\n",
      "13\n",
      "21\n",
      "34\n"
     ]
    }
   ],
   "source": [
    "num=0\n",
    "a,b=0,1\n",
    "while num<10:\n",
    "     print(a)\n",
    "     a,b=b,a+b\n",
    "     num += 1"
   ]
  },
  {
   "cell_type": "code",
   "execution_count": 1,
   "id": "911cd5fb-88df-40ab-8cd7-40c205ecc398",
   "metadata": {},
   "outputs": [
    {
     "name": "stdin",
     "output_type": "stream",
     "text": [
      "Enter a number to print its multiplication table:  5\n"
     ]
    },
    {
     "name": "stdout",
     "output_type": "stream",
     "text": [
      "Multiplication table for 5x1 5\n",
      "Multiplication table for 5x2 10\n",
      "Multiplication table for 5x3 15\n",
      "Multiplication table for 5x4 20\n",
      "Multiplication table for 5x5 25\n",
      "Multiplication table for 5x6 30\n",
      "Multiplication table for 5x7 35\n",
      "Multiplication table for 5x8 40\n",
      "Multiplication table for 5x9 45\n",
      "Multiplication table for 5x10 50\n"
     ]
    }
   ],
   "source": [
    "number = int(input(\"Enter a number to print its multiplication table: \"))\n",
    "\n",
    "num=1\n",
    "\n",
    "while(num<=10):\n",
    "    print(f'Multiplication table for {number}x{num}',number*num)\n",
    "    num+=1"
   ]
  },
  {
   "cell_type": "code",
   "execution_count": 1,
   "id": "557b646d-83b0-4444-ada6-0944c25d86d2",
   "metadata": {},
   "outputs": [
    {
     "name": "stdout",
     "output_type": "stream",
     "text": [
      "1\n",
      "3\n",
      "5\n",
      "7\n",
      "9\n",
      "11\n",
      "13\n",
      "15\n",
      "17\n",
      "19\n",
      "21\n",
      "23\n",
      "25\n",
      "27\n",
      "29\n",
      "31\n",
      "33\n",
      "35\n",
      "37\n",
      "39\n",
      "41\n",
      "43\n",
      "45\n",
      "47\n",
      "49\n",
      "51\n",
      "53\n",
      "55\n",
      "57\n",
      "59\n",
      "61\n",
      "63\n",
      "65\n",
      "67\n",
      "69\n",
      "71\n",
      "73\n",
      "75\n",
      "77\n",
      "79\n",
      "81\n",
      "83\n",
      "85\n",
      "87\n",
      "89\n",
      "91\n",
      "93\n",
      "95\n",
      "97\n",
      "99\n"
     ]
    }
   ],
   "source": [
    "num=1\n",
    "\n",
    "while(num<100):\n",
    "    if(num%2!=0):\n",
    "       print(num)\n",
    "    num+=1"
   ]
  },
  {
   "cell_type": "code",
   "execution_count": null,
   "id": "ceeefc85-0a0b-4cec-bfe5-74224c3644b8",
   "metadata": {},
   "outputs": [],
   "source": []
  }
 ],
 "metadata": {
  "kernelspec": {
   "display_name": "Python [conda env:base] *",
   "language": "python",
   "name": "conda-base-py"
  },
  "language_info": {
   "codemirror_mode": {
    "name": "ipython",
    "version": 3
   },
   "file_extension": ".py",
   "mimetype": "text/x-python",
   "name": "python",
   "nbconvert_exporter": "python",
   "pygments_lexer": "ipython3",
   "version": "3.12.7"
  }
 },
 "nbformat": 4,
 "nbformat_minor": 5
}
