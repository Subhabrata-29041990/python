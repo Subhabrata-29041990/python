{
 "cells": [
  {
   "cell_type": "code",
   "execution_count": 7,
   "id": "9f6c410e-55b8-42b2-877c-2eea1f6ab681",
   "metadata": {},
   "outputs": [
    {
     "name": "stdout",
     "output_type": "stream",
     "text": [
      "21\n"
     ]
    }
   ],
   "source": [
    "l=[1,2,3,4,5,6]\n",
    "print(sum(l))"
   ]
  },
  {
   "cell_type": "code",
   "execution_count": 9,
   "id": "ec86255a-82bd-4cf2-98d6-74b9742fddd7",
   "metadata": {},
   "outputs": [
    {
     "name": "stdout",
     "output_type": "stream",
     "text": [
      "6\n"
     ]
    }
   ],
   "source": [
    "l=[1,2,3,4,5,6]\n",
    "print(max(l))"
   ]
  },
  {
   "cell_type": "code",
   "execution_count": 1,
   "id": "7256fcb8-ad9c-499a-9220-e212fc59f67c",
   "metadata": {},
   "outputs": [
    {
     "name": "stdout",
     "output_type": "stream",
     "text": [
      "1\n"
     ]
    }
   ],
   "source": [
    "l=[1,2,3,4,5,6]\n",
    "\n",
    "print(min(l))"
   ]
  },
  {
   "cell_type": "code",
   "execution_count": 3,
   "id": "c3a774cc-02c0-4def-ad1e-bdefba7110ac",
   "metadata": {},
   "outputs": [
    {
     "name": "stdout",
     "output_type": "stream",
     "text": [
      "6\n"
     ]
    }
   ],
   "source": [
    "l=[1,2,3,4,5,6]\n",
    "print(len(l))\n"
   ]
  },
  {
   "cell_type": "code",
   "execution_count": 9,
   "id": "e2683e31-448a-43d1-835a-8de1822cf3c8",
   "metadata": {},
   "outputs": [
    {
     "name": "stdout",
     "output_type": "stream",
     "text": [
      "[1, 2, 3, 4, 5, 6]\n"
     ]
    }
   ],
   "source": [
    "l=[1,2,2,3,3,4,5,6]\n",
    "set_l=set(l)\n",
    "uniq_list=[]\n",
    "for item in set_l:\n",
    "    uniq_list.append(item)\n",
    "\n",
    "print(uniq_list)"
   ]
  },
  {
   "cell_type": "code",
   "execution_count": 11,
   "id": "a1646182-e556-4865-83fb-6dbd996bec73",
   "metadata": {},
   "outputs": [
    {
     "name": "stdout",
     "output_type": "stream",
     "text": [
      "not present\n"
     ]
    }
   ],
   "source": [
    "li=[]\n",
    "if  not  li:\n",
    "    print(\"not present\")"
   ]
  },
  {
   "cell_type": "code",
   "execution_count": 13,
   "id": "e72f454f-203e-4618-9a48-5a4a477f3ed6",
   "metadata": {},
   "outputs": [
    {
     "name": "stdout",
     "output_type": "stream",
     "text": [
      "6\n"
     ]
    }
   ],
   "source": [
    "tp=(1,2,3,4,5,6)\n",
    "print(len(tp))"
   ]
  },
  {
   "cell_type": "code",
   "execution_count": 15,
   "id": "418d09d4-2fbf-470c-9632-0ac63deec8ca",
   "metadata": {},
   "outputs": [
    {
     "name": "stdout",
     "output_type": "stream",
     "text": [
      "6\n"
     ]
    }
   ],
   "source": [
    "print(max(tp))"
   ]
  },
  {
   "cell_type": "code",
   "execution_count": 17,
   "id": "55ccbb4c-e366-47b6-84f2-3dd3f5834571",
   "metadata": {},
   "outputs": [
    {
     "name": "stdout",
     "output_type": "stream",
     "text": [
      "1\n"
     ]
    }
   ],
   "source": [
    "print(min(tp))"
   ]
  },
  {
   "cell_type": "code",
   "execution_count": 27,
   "id": "c3ef19a2-f703-4e57-bf6c-1b435c776a17",
   "metadata": {},
   "outputs": [
    {
     "name": "stdin",
     "output_type": "stream",
     "text": [
      "Enter the element to check:  6\n"
     ]
    },
    {
     "name": "stdout",
     "output_type": "stream",
     "text": [
      "does  exists\n"
     ]
    }
   ],
   "source": [
    "tp=(1,2,3,4,5,6)\n",
    "element = int(input(\"Enter the element to check: \"))\n",
    "\n",
    "\n",
    "if element in tp:\n",
    "   print(\"does  exists\")\n",
    "else:\n",
    " print(\"does not exists\")\n",
    "    "
   ]
  },
  {
   "cell_type": "code",
   "execution_count": 31,
   "id": "94f9aa9c-9e10-46be-9e53-d60ded5a17de",
   "metadata": {},
   "outputs": [
    {
     "name": "stdin",
     "output_type": "stream",
     "text": [
      "Enter the key to check:  name\n"
     ]
    },
    {
     "name": "stdout",
     "output_type": "stream",
     "text": [
      "exists\n"
     ]
    }
   ],
   "source": [
    "my_dict = {\n",
    "    \"name\": \"Alice\",\n",
    "    \"age\": 25,\n",
    "    \"city\": \"New York\"\n",
    "}\n",
    "\n",
    "# Get the key to check from the user\n",
    "key_to_check = input(\"Enter the key to check: \")\n",
    "\n",
    "if key_to_check in my_dict:\n",
    "    print(\"exists\")\n",
    "else:\n",
    "    print(\"not exists\")"
   ]
  },
  {
   "cell_type": "code",
   "execution_count": 35,
   "id": "14c235f4-7584-4190-953b-83aca31d16d9",
   "metadata": {},
   "outputs": [
    {
     "name": "stdout",
     "output_type": "stream",
     "text": [
      "12\n"
     ]
    }
   ],
   "source": [
    "l1=[1,2,3,4,5,6]\n",
    "sum_it=0\n",
    "for i in l1:\n",
    "    if(i%2==0):\n",
    "        sum_it+=i\n",
    "\n",
    "print(sum_it)\n",
    "        "
   ]
  },
  {
   "cell_type": "code",
   "execution_count": 37,
   "id": "d6e90bbe-32d4-40d2-8b67-af713ce3f7b3",
   "metadata": {},
   "outputs": [
    {
     "name": "stdout",
     "output_type": "stream",
     "text": [
      "9\n"
     ]
    }
   ],
   "source": [
    "l1=[1,2,3,4,5,6]\n",
    "sum_it=0\n",
    "for i in l1:\n",
    "    if(i%2!=0):\n",
    "        sum_it+=i\n",
    "\n",
    "print(sum_it)"
   ]
  },
  {
   "cell_type": "code",
   "execution_count": null,
   "id": "39599298-fe32-47ee-86d1-28b43889ae6d",
   "metadata": {},
   "outputs": [],
   "source": []
  }
 ],
 "metadata": {
  "kernelspec": {
   "display_name": "Python [conda env:base] *",
   "language": "python",
   "name": "conda-base-py"
  },
  "language_info": {
   "codemirror_mode": {
    "name": "ipython",
    "version": 3
   },
   "file_extension": ".py",
   "mimetype": "text/x-python",
   "name": "python",
   "nbconvert_exporter": "python",
   "pygments_lexer": "ipython3",
   "version": "3.12.7"
  }
 },
 "nbformat": 4,
 "nbformat_minor": 5
}
